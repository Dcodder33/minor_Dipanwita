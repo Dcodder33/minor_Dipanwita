import numpy as np # linear algebra
import pandas as pd # data processing, CSV file I/O (e.g. pd.read_csv)

# Input data files are available in the read-only "../input/" directory
# For example, running this (by clicking run or pressing Shift+Enter) will list all files under the input directory

import os
for dirname, _, filenames in os.walk('/kaggle/input'):
    for filename in filenames:
        print(os.path.join(dirname, filename))
import pandas as pd
import numpy as np
from textblob import TextBlob
import matplotlib.pyplot as plt
import seaborn as sns
from IPython.display import display, HTML
import ipywidgets as widgets

import pandas as pd
import numpy as np
from sklearn.ensemble import RandomForestRegressor
from sklearn.model_selection import train_test_split, cross_val_score
from sklearn.metrics import mean_squared_error, r2_score
from sklearn.feature_extraction.text import TfidfVectorizer
from sklearn.metrics.pairwise import cosine_similarity
from ipywidgets import interact, widgets
from IPython.display import display, HTML
from scipy import stats

# Load the dataset
data = pd.read_csv("ndtv_data_final.csv")

# Fill missing values
data['Ratings'] = data['Ratings'].fillna(data['Ratings'].mean())  # Use mean for ratings
data['Price'] = data['Price'].fillna(data['Price'].mean())  # Use mean for price
data = data.fillna('Unknown')  # Fill other categorical columns with 'Unknown'

# Preprocess data
# Handling categorical features
categorical_features = ['Brand', 'Processor', 'Network', 'SIM Slots']
data = pd.get_dummies(data, columns=categorical_features, drop_first=True)

# Handle outliers - Remove rows where any column has outliers
numeric_cols = data.select_dtypes(include=[np.number]).columns
z_scores = np.abs(stats.zscore(data[numeric_cols]))
data = data[(z_scores < 3).all(axis=1)]  # Remove rows where Z-score > 3 for any column

# Handle target variable
X = data.drop(['Ratings'], axis=1)
y = data['Ratings']

# Train-test split
X_train, X_test, y_train, y_test = train_test_split(X, y, test_size=0.2, random_state=42)

# Train a Random Forest model
rf_model = RandomForestRegressor(n_estimators=100, random_state=42)
rf_model.fit(X_train, y_train)

# Evaluate the model
y_pred_train = rf_model.predict(X_train)
y_pred_test = rf_model.predict(X_test)

print("Training Mean Squared Error:", mean_squared_error(y_train, y_pred_train))
print("Testing Mean Squared Error:", mean_squared_error(y_test, y_pred_test))
print("Training R-squared:", r2_score(y_train, y_pred_train))
print("Testing R-squared:", r2_score(y_test, y_pred_test))

# Cross-validation to check for overfitting/underfitting
cv_scores = cross_val_score(rf_model, X, y, cv=5, scoring='r2')
print("Cross-validated R-squared scores:", cv_scores)
print("Mean Cross-validated R-squared:", cv_scores.mean())

# Cosine Similarity Functionality
def calculate_cosine_similarity(column):
    tfidf_vectorizer = TfidfVectorizer()
    tfidf_matrix = tfidf_vectorizer.fit_transform(data[column].fillna("Unknown"))
    cosine_sim = cosine_similarity(tfidf_matrix)
    return cosine_sim

# Add cosine similarity on 'Reviews' column
data['Cosine Similarity'] = calculate_cosine_similarity('Reviews').mean(axis=1)

# Define filtering function
def filter_recommendations(min_rating, max_price, min_battery, min_camera, processor, min_ram, min_storage, network, sim_slots, touchscreen, model, brand):
    filtered_data = data[ 
        (data['Ratings'] >= min_rating) &
        (data['Price'] <= max_price) &
        (data['Battery'] >= min_battery) &
        (data['Camera'] >= min_camera) &
        (data['RAM'] >= min_ram) &
        (data['Internal Storage'] >= min_storage)
    ]
    
    if processor:
        filtered_data = filtered_data[filtered_data['Processor'] == processor]
    if model:
        filtered_data = filtered_data[filtered_data['Model'].str.contains(model, case=False, na=False)]
    if brand:
        filtered_data = filtered_data[filtered_data['Brand'].str.contains(brand, case=False, na=False)]
    if network:
        filtered_data = filtered_data[filtered_data['Network'].str.contains(network, case=False, na=False)]
    if sim_slots:
        filtered_data = filtered_data[filtered_data['SIM Slots'] == sim_slots]
    if touchscreen == 'Yes':
        filtered_data = filtered_data[filtered_data['Touch Screen'] == 1]
    elif touchscreen == 'No':
        filtered_data = filtered_data[filtered_data['Touch Screen'] == 0]

    if filtered_data.empty:
        display(HTML('<h3>No matching phones found. Try adjusting the filters.</h3>'))
    else:
        display(HTML(filtered_data.head(10).to_html()))

# Widgets for interactive filtering
min_rating_widget = widgets.FloatSlider(min=1, max=5, step=0.1, value=3, description='Min Rating:')
max_price_widget = widgets.IntSlider(min=5000, max=100000, step=1000, value=50000, description='Max Price:')
min_battery_widget = widgets.IntSlider(min=2000, max=8000, step=500, value=4000, description='Min Battery:')
min_camera_widget = widgets.IntSlider(min=5, max=200, step=5, value=12, description='Min Camera:')
processor_widget = widgets.Text(value='', description='Processor:')
min_ram_widget = widgets.IntSlider(min=2, max=16, step=1, value=4, description='Min RAM:')
min_storage_widget = widgets.IntSlider(min=16, max=512, step=16, value=64, description='Min Storage:')
network_widget = widgets.Text(value='', description='Network:')
sim_slots_widget = widgets.IntSlider(min=1, max=4, step=1, value=2, description='SIM Slots:')
touchscreen_widget = widgets.ToggleButtons(options=['Yes', 'No'], description='Touch Screen:')
model_widget = widgets.Text(value='', description='Model:')
brand_widget = widgets.Text(value='', description='Brand:')

# Interactive filtering
interact(
    filter_recommendations,
    min_rating=min_rating_widget,
    max_price=max_price_widget,
    min_battery=min_battery_widget,
    min_camera=min_camera_widget,
    processor=processor_widget,
    min_ram=min_ram_widget,
    min_storage=min_storage_widget,
    network=network_widget,
    sim_slots=sim_slots_widget,
    touchscreen=touchscreen_widget,
    model=model_widget,
    brand=brand_widget
)
