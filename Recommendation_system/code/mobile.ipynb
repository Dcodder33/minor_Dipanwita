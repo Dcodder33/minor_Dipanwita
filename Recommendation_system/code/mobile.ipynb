import numpy as np # linear algebra
import pandas as pd # data processing, CSV file I/O (e.g. pd.read_csv)

# Input data files are available in the read-only "../input/" directory
# For example, running this (by clicking run or pressing Shift+Enter) will list all files under the input directory

import os
for dirname, _, filenames in os.walk('/kaggle/input'):
    for filename in filenames:
        print(os.path.join(dirname, filename))
import pandas as pd
import numpy as np
from textblob import TextBlob
import matplotlib.pyplot as plt
import seaborn as sns
from IPython.display import display, HTML
import ipywidgets as widgets

# Load the dataset
data = pd.read_csv('/kaggle/input/mobile-phone-specifications-and-prices/ndtv_data_final.csv')

# Define sample reviews with corresponding ratings
reviews_with_ratings = {
    "Excellent performance, worth the price.": 5,
    "Great battery life, perfect for gaming.": 5,
    "Amazing camera quality, a bit expensive.": 4,
    "Good value for money, smooth performance.": 4,
    "Battery could be better, decent overall.": 3,
    "Highly recommend for photography lovers.": 5,
    "Affordable and reliable, good screen quality.": 4,
    "Sleek design, average battery life.": 3,
    "Perfect for everyday use, budget-friendly.": 4,
    "Premium quality, outstanding features.": 5
}
import pandas as pd
import numpy as np
from textblob import TextBlob
import matplotlib.pyplot as plt
import seaborn as sns
from IPython.display import display, HTML
import ipywidgets as widgets
from sklearn.model_selection import train_test_split, cross_val_score
from sklearn.ensemble import RandomForestRegressor
from sklearn.metrics import mean_squared_error, r2_score

# Load the dataset
data = pd.read_csv('/kaggle/input/mobile-phone-specifications-and-prices/ndtv_data_final.csv')

# Define sample reviews with corresponding ratings
reviews_with_ratings = {
    "Excellent performance, worth the price.": 5,
    "Great battery life, perfect for gaming.": 5,
    "Amazing camera quality, a bit expensive.": 4,
    "Good value for money, smooth performance.": 4,
    "Battery could be better, decent overall.": 3,
    "Highly recommend for photography lovers.": 5,
    "Affordable and reliable, good screen quality.": 4,
    "Sleek design, average battery life.": 3,
    "Perfect for everyday use, budget-friendly.": 4,
    "Premium quality, outstanding features.": 5
}

# Expand reviews to match the dataset size
reviews = list(reviews_with_ratings.keys())
expanded_reviews = reviews * (len(data) // len(reviews)) + reviews[:len(data) % len(reviews)]

# Assign ratings based on the review content
ratings = [reviews_with_ratings[review] for review in expanded_reviews]

# Add the 'Customer Reviews' and 'Ratings' columns to the dataset
data['Customer Reviews'] = expanded_reviews
data['Ratings'] = ratings

# Handle outliers in the 'Price' column
price_summary = data['Price'].describe()
iqr = price_summary['75%'] - price_summary['25%']
lower_bound = price_summary['25%'] - 1.5 * iqr
upper_bound = price_summary['75%'] + 1.5 * iqr
cleaned_data = data[(data['Price'] >= lower_bound) & (data['Price'] <= upper_bound)]

# Encode binary categorical variables
binary_columns = ['Wi-Fi', 'Bluetooth', 'GPS', '3G', '4G/ LTE']
for column in binary_columns:
    if column in cleaned_data.columns:
        cleaned_data.loc[:, column] = cleaned_data[column].map({'Yes': 1, 'No': 0})

# Encode 'Name' column using TextBlob sentiment analysis
if 'Name' in cleaned_data.columns:
    cleaned_data['Name_encoded'] = cleaned_data['Name'].apply(lambda x: TextBlob(x).sentiment.polarity)
else:
    print("Name column is missing!")
# Dynamically encode all other non-numeric categorical variables
categorical_columns = cleaned_data.select_dtypes(include=['object']).columns
cleaned_data = pd.get_dummies(cleaned_data, columns=categorical_columns, drop_first=True)

# Split data into train and test sets
features = cleaned_data.drop(['Ratings'], axis=1, errors='ignore')
labels = cleaned_data['Ratings']
X_train, X_test, y_train, y_test = train_test_split(features, labels, test_size=0.2, random_state=42)

# Initialize Random Forest model
rf_model = RandomForestRegressor(random_state=42, n_estimators=100, max_depth=10, min_samples_split=10)

# Perform cross-validation to check for generalization
cv_scores = cross_val_score(rf_model, X_train, y_train, cv=5, scoring='neg_mean_squared_error')
print(f"Cross-Validation MSE: {-cv_scores.mean()}")

# Train the Random Forest model
rf_model.fit(X_train, y_train)

# Evaluate the model
predictions = rf_model.predict(X_test)
mse = mean_squared_error(y_test, predictions)
r2 = r2_score(y_test, predictions)
accuracy = rf_model.score(X_test, y_test)

print(f"Random Forest Model - MSE: {mse}, R2: {r2}, Accuracy: {accuracy}")

# Check for underfitting or overfitting
train_predictions = rf_model.predict(X_train)
train_mse = mean_squared_error(y_train, train_predictions)
train_r2 = r2_score(y_train, train_predictions)

print(f"Random Forest Model - Train MSE: {train_mse}, Train R2: {train_r2}")

# If there is a significant difference in train/test performance, print a warning
if abs(train_r2 - r2) > 0.1:
    print("Warning: Potential overfitting or underfitting detected.")
    if train_r2 > r2:
        print("Model may be overfitting. Consider tuning hyperparameters.")
    else:
        print("Model may be underfitting. Consider adding more features or data.")

# Visualization of Feature Importances
def plot_feature_importances(model, feature_names):
    importances = model.feature_importances_
    indices = np.argsort(importances)[::-1]

    plt.figure(figsize=(10, 6))
    sns.barplot(x=importances[indices], y=np.array(feature_names)[indices])
    plt.title("Feature Importances")
    plt.xlabel("Importance")
    plt.ylabel("Feature")
    plt.show()

plot_feature_importances(rf_model, features.columns)

# Create filter widgets
min_rating_widget = widgets.FloatSlider(
    value=0,
    min=0,
    max=5,
    step=0.1,
    description='Min Rating:',
    continuous_update=False
)

max_price_widget = widgets.FloatSlider(
    value=10000,
    min=0,
    max=cleaned_data['Price'].max(),
    step=100,
    description='Max Price:',
    continuous_update=False
)

# Define filter function
def filter_recommendations(min_rating, max_price):
    filtered_data = cleaned_data[(cleaned_data['Ratings'] >= min_rating) & (cleaned_data['Price'] <= max_price)]
    display(HTML(filtered_data.head(10).to_html()))

# Display interactive widgets and filter recommendations
widgets.interactive(filter_recommendations, min_rating=min_rating_widget, max_price=max_price_widget)
#--------------- experiment 
"""import pandas as pd
import numpy as np
from textblob import TextBlob
import matplotlib.pyplot as plt
import seaborn as sns
from IPython.display import display, HTML
import ipywidgets as widgets
from sklearn.model_selection import train_test_split, cross_val_score
from sklearn.ensemble import RandomForestRegressor
from sklearn.metrics import mean_squared_error, r2_score

# Load the dataset
data = pd.read_csv('/kaggle/input/mobile-phone-specifications-and-prices/ndtv_data_final.csv')

# Define sample reviews with corresponding ratings
reviews_with_ratings = {
    "Excellent performance, worth the price.": 5,
    "Great battery life, perfect for gaming.": 5,
    "Amazing camera quality, a bit expensive.": 4,
    "Good value for money, smooth performance.": 4,
    "Battery could be better, decent overall.": 3,
    "Highly recommend for photography lovers.": 5,
    "Affordable and reliable, good screen quality.": 4,
    "Sleek design, average battery life.": 3,
    "Perfect for everyday use, budget-friendly.": 4,
    "Premium quality, outstanding features.": 5
}

# Expand reviews to match the dataset size
reviews = list(reviews_with_ratings.keys())
expanded_reviews = reviews * (len(data) // len(reviews)) + reviews[:len(data) % len(reviews)]

# Assign ratings based on the review content
ratings = [reviews_with_ratings[review] for review in expanded_reviews]

# Add the 'Customer Reviews' and 'Ratings' columns to the dataset
data['Customer Reviews'] = expanded_reviews
data['Ratings'] = ratings

# Handle outliers in the 'Price' column
price_summary = data['Price'].describe()
iqr = price_summary['75%'] - price_summary['25%']
lower_bound = price_summary['25%'] - 1.5 * iqr
upper_bound = price_summary['75%'] + 1.5 * iqr
cleaned_data = data[(data['Price'] >= lower_bound) & (data['Price'] <= upper_bound)]

# Encode binary categorical variables
binary_columns = ['Wi-Fi', 'Bluetooth', 'GPS', '3G', '4G/ LTE']
for column in binary_columns:
    if column in cleaned_data.columns:
        cleaned_data.loc[:, column] = cleaned_data[column].map({'Yes': 1, 'No': 0})

# Encode 'Name' column using TextBlob sentiment analysis
if 'Name' in cleaned_data.columns:
    cleaned_data.loc[:, 'Name_encoded'] = cleaned_data['Name'].apply(lambda x: TextBlob(x).sentiment.polarity)
else:
    print("Name column is missing!")

# Dynamically encode all other non-numeric categorical variables
categorical_columns = cleaned_data.select_dtypes(include=['object']).columns
cleaned_data = pd.get_dummies(cleaned_data, columns=categorical_columns, drop_first=True)

# Check for the correct column names
print("Column Names: ", cleaned_data.columns)

# Split data into train and test sets
features = cleaned_data.drop(['Ratings'], axis=1, errors='ignore')
labels = cleaned_data['Ratings']
X_train, X_test, y_train, y_test = train_test_split(features, labels, test_size=0.2, random_state=42)

# Initialize Random Forest model with tuned hyperparameters to prevent overfitting or underfitting
rf_model = RandomForestRegressor(random_state=42, n_estimators=100, max_depth=10, min_samples_split=10)

# Perform cross-validation to check for generalization
cv_scores = cross_val_score(rf_model, X_train, y_train, cv=5, scoring='neg_mean_squared_error')
print(f"Cross-Validation MSE: {-cv_scores.mean()}")

# Train the Random Forest model
rf_model.fit(X_train, y_train)

# Evaluate the model
predictions = rf_model.predict(X_test)
mse = mean_squared_error(y_test, predictions)
r2 = r2_score(y_test, predictions)
accuracy = rf_model.score(X_test, y_test)

print(f"Random Forest Model - MSE: {mse}, R2: {r2}, Accuracy: {accuracy}")

# Visualization of Feature Importances
def plot_feature_importances(model, feature_names):
    importances = model.feature_importances_
    indices = np.argsort(importances)[::-1]

    plt.figure(figsize=(10, 6))
    sns.barplot(x=importances[indices], y=np.array(feature_names)[indices])
    plt.title("Feature Importances")
    plt.xlabel("Importance")
    plt.ylabel("Feature")
    plt.show()

plot_feature_importances(rf_model, features.columns)

# Create filter widgets
min_rating_widget = widgets.FloatSlider(
    value=0,
    min=0,
    max=5,
    step=0.1,
    description='Min Rating:',
    continuous_update=False
)

max_price_widget = widgets.FloatSlider(
    value=10000,
    min=0,
    max=cleaned_data['Price'].max(),
    step=100,
    description='Max Price:',
    continuous_update=False
)

battery_widget = widgets.FloatSlider(
    value=0,
    min=0,
    max=5000,
    step=100,
    description='Min Battery (mAh):',
    continuous_update=False
)

camera_widget = widgets.FloatSlider(
    value=0,
    min=0,
    max=108,
    step=1,
    description='Min Camera (MP):',
    continuous_update=False
)

processor_widget = widgets.Dropdown(
    options=cleaned_data['Processor'].unique().tolist(),
    description='Processor:',
    disabled=False
)

ram_widget = widgets.FloatSlider(
    value=0,
    min=0,
    max=16,
    step=1,
    description='Min RAM (GB):',
    continuous_update=False
)

internal_storage_widget = widgets.FloatSlider(
    value=0,
    min=0,
    max=512,
    step=16,
    description='Min Storage (GB):',
    continuous_update=False
)

# New filters for 3G, 4G, SIM, Touchscreen, and Model/Brand
network_widget = widgets.SelectMultiple(
    options=['3G', '4G'],
    value=['3G', '4G'],
    description='Network:',
    disabled=False
)

sim_slots_widget = widgets.IntSlider(
    value=1,
    min=1,
    max=2,
    step=1,
    description='SIM Slots:',
    continuous_update=False
)

touchscreen_widget = widgets.Dropdown(
    options=['Yes', 'No'],
    value='Yes',
    description='Touch Screen:',
    disabled=False
)

model_widget = widgets.Text(
    value='',
    description='Model:',
    disabled=False
)

brand_widget = widgets.Text(
    value='',
    description='Brand:',
    disabled=False
)

# Define filter function
def filter_recommendations(min_rating, max_price, min_battery, min_camera, processor, min_ram, min_storage, network, sim_slots, touchscreen, model, brand):
    # Filter data based on conditions
    filtered_data = cleaned_data[
        (cleaned_data['Ratings'] >= min_rating) &
        (cleaned_data['Price'] <= max_price) &
        (cleaned_data['Battery capacity (mAh)'] >= min_battery) &
        (cleaned_data['Camera (MP)'] >= min_camera) &  # Corrected column name for camera
        (cleaned_data['Processor'] == processor) &
        (cleaned_data['RAM'] >= min_ram) &
        (cleaned_data['Internal Storage'] >= min_storage) &
        (cleaned_data['SIM Slots'] == sim_slots) &
        (cleaned_data['Touchscreen'] == touchscreen) &
        (cleaned_data['Model'].str.contains(model, case=False)) &
        (cleaned_data['Brand'].str.contains(brand, case=False))
    ]
    
    # Handle network filtering for 3G or 4G
    if '3G' in network:
        filtered_data = filtered_data[filtered_data['3G'] == 1]
    if '4G' in network:
        filtered_data = filtered_data[filtered_data['4G'] == 1]

    # Sort the filtered data by Ratings in descending order
    filtered_recommendations = filtered_data.sort_values(by='Ratings', ascending=False).head(10)
    display(HTML(filtered_recommendations.to_html()))

# Display interactive widgets and filter recommendations
widgets.interactive(
    filter_recommendations,
    min_rating=min_rating_widget,
    max_price=max_price_widget,
    min_battery=battery_widget,
    min_camera=camera_widget,
    processor=processor_widget,
    min_ram=ram_widget,
    min_storage=internal_storage_widget,
    network=network_widget,
    sim_slots=sim_slots_widget,
    touchscreen=touchscreen_widget,
    model=model_widget,
    brand=brand_widget
)
"""

